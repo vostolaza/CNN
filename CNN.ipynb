{
  "cells": [
    {
      "cell_type": "code",
      "execution_count": 1,
      "metadata": {
        "id": "qiFPXahafzdt"
      },
      "outputs": [],
      "source": [
        "import torch\n",
        "import torch.nn as nn\n",
        "import torchvision\n",
        "import torchvision.transforms as transforms\n",
        "import torch.nn.functional as F\n",
        "from tools import EarlyStopping\n",
        "\n",
        "import matplotlib.pyplot as plt\n",
        "import numpy as np\n",
        "import math"
      ]
    },
    {
      "cell_type": "code",
      "execution_count": 2,
      "metadata": {
        "id": "rRqPdNApb2vJ"
      },
      "outputs": [],
      "source": [
        "num_classes = 4\n",
        "learning_rate = 0.001\n",
        "num_epochs = 20\n",
        "batch_size = 20"
      ]
    },
    {
      "cell_type": "code",
      "execution_count": 3,
      "metadata": {
        "id": "PWn9g4tJ7Fud"
      },
      "outputs": [],
      "source": [
        "data_transforms = transforms.Compose([transforms.ToTensor(), transforms.Grayscale(num_output_channels=1)])\n",
        "img = torchvision.datasets.ImageFolder(root='COVID-19_Radiography_Dataset', transform=data_transforms)\n",
        "train_size = math.floor(len(img)*0.7)\n",
        "val_size = math.floor(len(img)*0.2)\n",
        "train_d, validation, test = torch.utils.data.random_split(img, [train_size, val_size, len(img)-train_size-val_size])\n",
        "\n",
        "train_loader = torch.utils.data.DataLoader(train_d, batch_size=batch_size, shuffle=True)\n",
        "val_loader = torch.utils.data.DataLoader(validation, batch_size=batch_size, shuffle=True)\n",
        "test_loader = torch.utils.data.DataLoader(test, batch_size=batch_size, shuffle=True)"
      ]
    },
    {
      "cell_type": "code",
      "execution_count": 4,
      "metadata": {
        "colab": {
          "base_uri": "https://localhost:8080/"
        },
        "id": "A7SsYUrchb7X",
        "outputId": "38327c45-9406-4190-fbe2-b13e854c8877"
      },
      "outputs": [
        {
          "name": "stdout",
          "output_type": "stream",
          "text": [
            "cuda:0\n"
          ]
        }
      ],
      "source": [
        "device = torch.device('cuda:0' if torch.cuda.is_available() else 'cpu')\n",
        "print(device)"
      ]
    },
    {
      "cell_type": "code",
      "execution_count": 5,
      "metadata": {
        "id": "_fpASldwcCYY"
      },
      "outputs": [],
      "source": [
        "class CNN(nn.Module):\n",
        "  def __init__(self , num_classes=10):\n",
        "    super(CNN, self).__init__()\n",
        "    self.layer1 = nn.Sequential(\n",
        "      nn.Conv2d(in_channels=1, out_channels=16, kernel_size=3, stride=1, padding=2) ,\n",
        "      nn.BatchNorm2d(16),\n",
        "      nn.ReLU(),\n",
        "      nn.MaxPool2d(kernel_size=2, stride=2))\n",
        "      # nn.Dropout(0.25))\n",
        "    self.layer2 = nn.Sequential(\n",
        "      nn.Conv2d(16, 32, kernel_size=5, stride=1, padding=2) ,\n",
        "      nn.BatchNorm2d(32),\n",
        "      nn.ReLU(),\n",
        "      nn.MaxPool2d(kernel_size=2, stride=2))\n",
        "      # nn.Dropout(0.25))\n",
        "    self.layer3 = nn.Sequential(\n",
        "      nn.Conv2d(32, 64, kernel_size=7, stride=1, padding=3) ,\n",
        "      nn.BatchNorm2d(64),\n",
        "      nn.ReLU(),\n",
        "      nn.MaxPool2d(kernel_size=2, stride=2))\n",
        "      # nn.Dropout(0.25))\n",
        "    self.layer4 = nn.Sequential(\n",
        "      nn.Conv2d(64, 128, kernel_size=11, stride=1, padding=5) ,\n",
        "      nn.BatchNorm2d(128),\n",
        "      nn.ReLU(),\n",
        "      nn.MaxPool2d(kernel_size=2, stride=2))\n",
        "      # nn.Dropout(0.25))\n",
        "    self.fc = nn.Linear(18*18*128 , num_classes)\n",
        "    \n",
        "  def forward(self , x):\n",
        "    # print(\"Entro layer 1\")\n",
        "    out = self.layer1(x)\n",
        "    # print(\"Paso layer 1\")\n",
        "    out = self.layer2(out)\n",
        "    # print(\"Paso layer 2\")\n",
        "    out = self.layer3(out)\n",
        "    # print(\"Paso layer 3\")\n",
        "    out = self.layer4(out)\n",
        "    # print(\"Paso layer 4\")\n",
        "    out = out.reshape(out.size(0) , -1)\n",
        "    # print(\"Reshapeo\")\n",
        "    out = self.fc(out)\n",
        "    return out"
      ]
    },
    {
      "cell_type": "code",
      "execution_count": 6,
      "metadata": {
        "id": "p6C8-Dne_OtX"
      },
      "outputs": [],
      "source": [
        "def train(model, optimizer, loss_fn, num_epochs, patience):\n",
        "  # train the model\n",
        "  total_step = len(train_loader)\n",
        "\n",
        "  list_loss= []\n",
        "  list_val = []\n",
        "  avg_list_loss = []\n",
        "  avg_list_val = []\n",
        "\n",
        "  earlyStopping = EarlyStopping(patience=patience, verbose=False)\n",
        "\n",
        "  for epoch in range(num_epochs):\n",
        "    for i, (images, labels) in enumerate(train_loader):\n",
        "      images = images.to(device)\n",
        "      labels = labels.to(device)\n",
        "      # forward \n",
        "      output = model(images)\n",
        "      loss   = loss_fn(output, labels)\n",
        "      # change the params\n",
        "      optimizer.zero_grad()\n",
        "      loss.backward()\n",
        "      optimizer.step()\n",
        "\n",
        "      list_loss.append(loss.item())\n",
        "              \n",
        "      if (i+1) % 100 == 0:\n",
        "              print ('Epoch [{}/{}], Step [{}/{}], Loss: {:.4f}' \n",
        "                    .format(epoch+1, num_epochs, i+1, total_step, loss.item()))\n",
        "\n",
        "    avg_list_loss.append(np.mean(list_loss))\n",
        "\n",
        "    for i, (images, labels) in enumerate(val_loader):\n",
        "      images = images.to(device)\n",
        "      labels = labels.to(device)\n",
        "      # forward \n",
        "      output = model(images)\n",
        "      loss   = loss_fn(output, labels)\n",
        "\n",
        "      list_val.append(loss.item())\n",
        "              \n",
        "    avg_list_val.append(np.mean(list_val))\n",
        "    \n",
        "    list_loss = []\n",
        "    list_val = []\n",
        "\n",
        "    earlyStopping(avg_list_val[-1], model)\n",
        "    if earlyStopping.early_stop:\n",
        "      print(\"Early stopping\")\n",
        "      break\n",
        "    \n",
        "  print('Finished Training Trainset')\n",
        "  return avg_list_loss, avg_list_val\n"
      ]
    },
    {
      "cell_type": "code",
      "execution_count": 7,
      "metadata": {
        "id": "EJxZF5o5yJbQ"
      },
      "outputs": [],
      "source": [
        "model         = CNN(num_classes).to(device)\n",
        "loss_fn       = nn.CrossEntropyLoss()\n",
        "optimizer     = torch.optim.Adam(model.parameters(), lr = learning_rate)"
      ]
    },
    {
      "cell_type": "code",
      "execution_count": 8,
      "metadata": {
        "colab": {
          "base_uri": "https://localhost:8080/"
        },
        "id": "hhU3NTeayPM7",
        "outputId": "ea3d788c-bb87-40fe-a266-315c94b7aa4f"
      },
      "outputs": [
        {
          "name": "stdout",
          "output_type": "stream",
          "text": [
            "Epoch [1/20], Step [100/741], Loss: 0.7453\n",
            "Epoch [1/20], Step [200/741], Loss: 0.9185\n",
            "Epoch [1/20], Step [300/741], Loss: 0.7535\n",
            "Epoch [1/20], Step [400/741], Loss: 0.4859\n",
            "Epoch [1/20], Step [500/741], Loss: 0.5228\n",
            "Epoch [1/20], Step [600/741], Loss: 0.4898\n",
            "Epoch [1/20], Step [700/741], Loss: 0.3814\n",
            "Epoch [2/20], Step [100/741], Loss: 0.2802\n",
            "Epoch [2/20], Step [200/741], Loss: 0.1940\n",
            "Epoch [2/20], Step [300/741], Loss: 0.3535\n",
            "Epoch [2/20], Step [400/741], Loss: 0.2771\n",
            "Epoch [2/20], Step [500/741], Loss: 0.5830\n",
            "Epoch [2/20], Step [600/741], Loss: 0.2286\n",
            "Epoch [2/20], Step [700/741], Loss: 0.2649\n",
            "Epoch [3/20], Step [100/741], Loss: 0.4064\n",
            "Epoch [3/20], Step [200/741], Loss: 0.3368\n",
            "Epoch [3/20], Step [300/741], Loss: 0.1260\n",
            "Epoch [3/20], Step [400/741], Loss: 0.4903\n",
            "Epoch [3/20], Step [500/741], Loss: 0.5170\n",
            "Epoch [3/20], Step [600/741], Loss: 0.2973\n",
            "Epoch [3/20], Step [700/741], Loss: 0.0444\n",
            "Epoch [4/20], Step [100/741], Loss: 0.0983\n",
            "Epoch [4/20], Step [200/741], Loss: 0.0720\n",
            "Epoch [4/20], Step [300/741], Loss: 0.1638\n",
            "Epoch [4/20], Step [400/741], Loss: 0.5152\n",
            "Epoch [4/20], Step [500/741], Loss: 0.4151\n",
            "Epoch [4/20], Step [600/741], Loss: 0.1502\n",
            "Epoch [4/20], Step [700/741], Loss: 0.4317\n",
            "Epoch [5/20], Step [100/741], Loss: 0.0732\n",
            "Epoch [5/20], Step [200/741], Loss: 0.1342\n",
            "Epoch [5/20], Step [300/741], Loss: 0.1387\n",
            "Epoch [5/20], Step [400/741], Loss: 0.1464\n",
            "Epoch [5/20], Step [500/741], Loss: 0.1825\n",
            "Epoch [5/20], Step [600/741], Loss: 0.1691\n",
            "Epoch [5/20], Step [700/741], Loss: 0.1009\n",
            "EarlyStopping counter: 1 out of 5\n",
            "Epoch [6/20], Step [100/741], Loss: 0.1783\n",
            "Epoch [6/20], Step [200/741], Loss: 0.0801\n",
            "Epoch [6/20], Step [300/741], Loss: 0.1780\n",
            "Epoch [6/20], Step [400/741], Loss: 0.1964\n",
            "Epoch [6/20], Step [500/741], Loss: 0.1233\n",
            "Epoch [6/20], Step [600/741], Loss: 0.1800\n",
            "Epoch [6/20], Step [700/741], Loss: 0.2712\n",
            "Epoch [7/20], Step [100/741], Loss: 0.0866\n",
            "Epoch [7/20], Step [200/741], Loss: 0.0422\n",
            "Epoch [7/20], Step [300/741], Loss: 0.1912\n",
            "Epoch [7/20], Step [400/741], Loss: 0.1090\n",
            "Epoch [7/20], Step [500/741], Loss: 0.2643\n",
            "Epoch [7/20], Step [600/741], Loss: 0.2714\n",
            "Epoch [7/20], Step [700/741], Loss: 0.1861\n",
            "EarlyStopping counter: 1 out of 5\n",
            "Epoch [8/20], Step [100/741], Loss: 0.2331\n",
            "Epoch [8/20], Step [200/741], Loss: 0.1567\n",
            "Epoch [8/20], Step [300/741], Loss: 0.0217\n",
            "Epoch [8/20], Step [400/741], Loss: 0.0293\n",
            "Epoch [8/20], Step [500/741], Loss: 0.1361\n",
            "Epoch [8/20], Step [600/741], Loss: 0.0573\n",
            "Epoch [8/20], Step [700/741], Loss: 0.0761\n",
            "EarlyStopping counter: 2 out of 5\n",
            "Epoch [9/20], Step [100/741], Loss: 0.2898\n",
            "Epoch [9/20], Step [200/741], Loss: 0.1970\n",
            "Epoch [9/20], Step [300/741], Loss: 0.0403\n",
            "Epoch [9/20], Step [400/741], Loss: 0.1849\n",
            "Epoch [9/20], Step [500/741], Loss: 0.1974\n",
            "Epoch [9/20], Step [600/741], Loss: 0.0451\n",
            "Epoch [9/20], Step [700/741], Loss: 0.2124\n",
            "EarlyStopping counter: 3 out of 5\n",
            "Epoch [10/20], Step [100/741], Loss: 0.0367\n",
            "Epoch [10/20], Step [200/741], Loss: 0.0533\n",
            "Epoch [10/20], Step [300/741], Loss: 0.1853\n",
            "Epoch [10/20], Step [400/741], Loss: 0.1209\n",
            "Epoch [10/20], Step [500/741], Loss: 0.0404\n",
            "Epoch [10/20], Step [600/741], Loss: 0.0387\n",
            "Epoch [10/20], Step [700/741], Loss: 0.2112\n",
            "EarlyStopping counter: 4 out of 5\n",
            "Epoch [11/20], Step [100/741], Loss: 0.0641\n",
            "Epoch [11/20], Step [200/741], Loss: 0.2220\n",
            "Epoch [11/20], Step [300/741], Loss: 0.4374\n",
            "Epoch [11/20], Step [400/741], Loss: 0.1269\n",
            "Epoch [11/20], Step [500/741], Loss: 0.0814\n",
            "Epoch [11/20], Step [600/741], Loss: 0.5113\n",
            "Epoch [11/20], Step [700/741], Loss: 0.0133\n",
            "EarlyStopping counter: 5 out of 5\n",
            "Early stopping\n",
            "Finished Training Trainset\n"
          ]
        }
      ],
      "source": [
        "avg_list_loss, avg_list_val = train(model, optimizer, loss_fn, 20, 5)"
      ]
    },
    {
      "cell_type": "code",
      "execution_count": 9,
      "metadata": {
        "colab": {
          "base_uri": "https://localhost:8080/",
          "height": 286
        },
        "id": "UOlUm98w3IBN",
        "outputId": "16adf34d-fdcf-4f55-d570-bd34a1ab09e5"
      },
      "outputs": [
        {
          "data": {
            "text/plain": [
              "<matplotlib.legend.Legend at 0x17fb039fa00>"
            ]
          },
          "execution_count": 9,
          "metadata": {},
          "output_type": "execute_result"
        },
        {
          "data": {
            "image/png": "[encoded data removed]",
            "text/plain": [
              "<Figure size 432x288 with 1 Axes>"
            ]
          },
          "metadata": {
            "needs_background": "light"
          },
          "output_type": "display_data"
        }
      ],
      "source": [
        "plt.plot([i for i in range(len(avg_list_loss))], avg_list_loss)\n",
        "plt.plot([i for i in range(len(avg_list_val))], avg_list_val)\n",
        "plt.legend(['Training', 'Validation'])"
      ]
    },
    {
      "cell_type": "code",
      "execution_count": 10,
      "metadata": {},
      "outputs": [
        {
          "name": "stdout",
          "output_type": "stream",
          "text": [
            "[0.998226239734333, 0.41094353687465596, 0.3373733864551694, 0.2863290604711705, 0.2501258475821611, 0.2172398349023883, 0.19328641767805887, 0.15937483384476298, 0.14145191677427485, 0.11355948812603528, 0.09308408046164518]\n",
            "[0.4828133984416161, 0.365445331266185, 0.30759843444135393, 0.28636860863288055, 0.3333890252342483, 0.2738142923258667, 0.28065702977221246, 0.2981052082119826, 0.3252512203081388, 0.30222636866295394, 0.41182291562084705]\n"
          ]
        }
      ],
      "source": [
        "print(avg_list_loss)\n",
        "print(avg_list_val)"
      ]
    },
    {
      "cell_type": "code",
      "execution_count": 11,
      "metadata": {},
      "outputs": [],
      "source": [
        "def testAccuracy():\n",
        "    with torch.no_grad():\n",
        "        correct = 0\n",
        "        total = 0\n",
        "        for images, labels in test_loader:\n",
        "            images = images.to(device)\n",
        "            labels = labels.to(device)\n",
        "            outputs = model(images)\n",
        "            _, predicted = torch.max(outputs.data, 1)\n",
        "            total += labels.size(0)\n",
        "            correct += (predicted == labels).sum().item()\n",
        "        print('Test Accuracy of the model: {} %'.format(100 * correct / total))\n"
      ]
    },
    {
      "cell_type": "code",
      "execution_count": 12,
      "metadata": {},
      "outputs": [
        {
          "name": "stdout",
          "output_type": "stream",
          "text": [
            "Test Accuracy of the model on the 10000 test images: 89.04109589041096 %\n"
          ]
        }
      ],
      "source": [
        "testAccuracy()"
      ]
    }
  ],
  "metadata": {
    "accelerator": "GPU",
    "colab": {
      "collapsed_sections": [],
      "name": "CNN.ipynb",
      "provenance": []
    },
    "kernelspec": {
      "display_name": "Python 3",
      "name": "python3"
    },
    "language_info": {
      "codemirror_mode": {
        "name": "ipython",
        "version": 3
      },
      "file_extension": ".py",
      "mimetype": "text/x-python",
      "name": "python",
      "nbconvert_exporter": "python",
      "pygments_lexer": "ipython3",
      "version": "3.8.3"
    }
  },
  "nbformat": 4,
  "nbformat_minor": 0
}
